{
  "nbformat": 4,
  "nbformat_minor": 0,
  "metadata": {
    "colab": {
      "provenance": [],
      "authorship_tag": "ABX9TyPcgOg62UBHmG0kLpJxyk8H",
      "include_colab_link": true
    },
    "kernelspec": {
      "name": "python3",
      "display_name": "Python 3"
    },
    "language_info": {
      "name": "python"
    }
  },
  "cells": [
    {
      "cell_type": "markdown",
      "metadata": {
        "id": "view-in-github",
        "colab_type": "text"
      },
      "source": [
        "<a href=\"https://colab.research.google.com/github/Ryu-Santos/CPEN-21A-CPE-1-2/blob/main/Exercise1.ipynb\" target=\"_parent\"><img src=\"https://colab.research.google.com/assets/colab-badge.svg\" alt=\"Open In Colab\"/></a>"
      ]
    },
    {
      "cell_type": "code",
      "execution_count": 8,
      "metadata": {
        "colab": {
          "base_uri": "https://localhost:8080/"
        },
        "id": "m4yp2JDRC5YD",
        "outputId": "9bbc62a5-0fca-406f-eee2-c11d4403aa9e"
      },
      "outputs": [
        {
          "output_type": "stream",
          "name": "stdout",
          "text": [
            "['R', 'Y', 'U', ' ', 'B', 'R', 'I', 'O', 'N', 'E', 'S', ' ', 'S', 'A', 'N', 'T', 'O', 'S']\n",
            "S O T N A S   S E N O I R B   U Y R "
          ]
        }
      ],
      "source": [
        "#1. Create a python program that use Array\n",
        "#2. Insert each character of your full name and displays each character of your full name in reverse order\n",
        "character = []\n",
        "name = \"RYU BRIONES SANTOS\"\n",
        "for x in name:\n",
        "  character.append(x)\n",
        "print(character)\n",
        "\n",
        "character.reverse()\n",
        "\n",
        "for x in character:\n",
        "  print(x, end=\" \")"
      ]
    }
  ]
}